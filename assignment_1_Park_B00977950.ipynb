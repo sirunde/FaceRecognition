{
  "nbformat": 4,
  "nbformat_minor": 0,
  "metadata": {
    "colab": {
      "provenance": [],
      "authorship_tag": "ABX9TyMsYVrFIGAizCfMjEHyo84R",
      "include_colab_link": true
    },
    "kernelspec": {
      "name": "python3",
      "display_name": "Python 3"
    },
    "language_info": {
      "name": "python"
    }
  },
  "cells": [
    {
      "cell_type": "markdown",
      "metadata": {
        "id": "view-in-github",
        "colab_type": "text"
      },
      "source": [
        "<a href=\"https://colab.research.google.com/github/sirunde/FaceRecognition/blob/master/assignment_1_Park_B00977950.ipynb\" target=\"_parent\"><img src=\"https://colab.research.google.com/assets/colab-badge.svg\" alt=\"Open In Colab\"/></a>"
      ]
    },
    {
      "cell_type": "markdown",
      "source": [
        "# Jiyun Park B00977950 jpark430@binghamton.edu"
      ],
      "metadata": {
        "id": "0Q2BGbp0b4UF"
      }
    },
    {
      "cell_type": "code",
      "execution_count": 2,
      "metadata": {
        "id": "19slykc--thO"
      },
      "outputs": [],
      "source": [
        "import numpy as np\n",
        "import scipy"
      ]
    },
    {
      "cell_type": "markdown",
      "source": [
        "## 1 Numerical Inversion by Binary Search [16 points]"
      ],
      "metadata": {
        "id": "8oyOV0li3vxE"
      }
    },
    {
      "cell_type": "code",
      "source": [
        "def Transcendental(x):\n",
        "  return x*np.exp(x)+x\n"
      ],
      "metadata": {
        "id": "kh2pvdO7BpFl"
      },
      "execution_count": 3,
      "outputs": []
    },
    {
      "cell_type": "code",
      "source": [
        "def gamma(x):\n",
        "  return scipy.special.gamma(x)"
      ],
      "metadata": {
        "id": "e1vSdhGU3Iba"
      },
      "execution_count": 4,
      "outputs": []
    },
    {
      "cell_type": "code",
      "source": [
        "def invert(func, y, d=()):\n",
        "  def setbound(func,y):\n",
        "    setting = False\n",
        "    if(func(0)< y):\n",
        "      p1 = 0\n",
        "      setting = True\n",
        "    else:\n",
        "      p2 = 0\n",
        "    if (d):\n",
        "      p1 = d[0]\n",
        "      p2 = d[1]\n",
        "      return p1,p2\n",
        "    if setting == True:\n",
        "      x = p1\n",
        "      while(True):\n",
        "        if func(x)< y:\n",
        "          x =x*2+1\n",
        "        else:\n",
        "          p2 = x\n",
        "          break\n",
        "    else:\n",
        "      x = p2\n",
        "      while(True):\n",
        "        if func(x)> y:\n",
        "          x = x*2-1\n",
        "        else:\n",
        "          p1 = x\n",
        "          break\n",
        "    return p1,p2\n",
        "\n",
        "  p1,p2 = setbound(func,y)\n",
        "  print(p1,p2)\n",
        "\n",
        "  diff= 1e-8\n",
        "  x = (p1+p2)/2\n",
        "  output = func(x)\n",
        "  while(output >= y+diff or output <= y-diff):\n",
        "    if (output >= y+diff):\n",
        "      p2 = x\n",
        "      x = (p1+p2)/2\n",
        "    if (output <= y-diff):\n",
        "      p1 = x\n",
        "      x = (p1+p2)/2\n",
        "    output = func(x)\n",
        "\n",
        "  return x"
      ],
      "metadata": {
        "id": "cju-LZHHB5Bi"
      },
      "execution_count": 16,
      "outputs": []
    },
    {
      "cell_type": "code",
      "source": [
        "# Test case\n",
        "a = invert(Transcendental,13788,)\n",
        "print(a)\n",
        "print(Transcendental(a))"
      ],
      "metadata": {
        "colab": {
          "base_uri": "https://localhost:8080/"
        },
        "id": "L0EqntMHMZa4",
        "outputId": "9e5feb70-febf-4572-d690-dfba7daf3a32"
      },
      "execution_count": 18,
      "outputs": [
        {
          "output_type": "stream",
          "name": "stdout",
          "text": [
            "0 15\n",
            "7.51421256154174\n",
            "13788.000000009279\n"
          ]
        }
      ]
    },
    {
      "cell_type": "code",
      "source": [
        "print(Transcendental(12))"
      ],
      "metadata": {
        "colab": {
          "base_uri": "https://localhost:8080/"
        },
        "id": "OZEL4tN02TeV",
        "outputId": "cac0c24a-17d6-494c-aeed-297f511ea054"
      },
      "execution_count": null,
      "outputs": [
        {
          "output_type": "stream",
          "name": "stdout",
          "text": [
            "1953069.497028047\n"
          ]
        }
      ]
    },
    {
      "cell_type": "markdown",
      "source": [
        "## 2 Numerical Integration [7 points]"
      ],
      "metadata": {
        "id": "K9gh86Ru31Sy"
      }
    },
    {
      "cell_type": "code",
      "source": [
        "import numpy as np\n",
        "import random"
      ],
      "metadata": {
        "id": "Om5prLVHG6B5"
      },
      "execution_count": 23,
      "outputs": []
    },
    {
      "cell_type": "code",
      "source": [
        "def integrate(func,lo,hi):\n",
        "  lower = lo\n",
        "  higher = hi\n",
        "  sampl = 500_000\n",
        "  sum = 0\n",
        "  for i in range(sampl):\n",
        "    rand = random.uniform(lo,hi)\n",
        "    sum += func(rand)\n",
        "\n",
        "  output = ((higher-lower)*sum)/(sampl)\n",
        "  return output\n"
      ],
      "metadata": {
        "id": "p1355cO835nB"
      },
      "execution_count": 41,
      "outputs": []
    },
    {
      "cell_type": "code",
      "source": [
        "def sinx(x):\n",
        "  return np.sin(x)/x\n",
        "sinx(3)"
      ],
      "metadata": {
        "colab": {
          "base_uri": "https://localhost:8080/"
        },
        "id": "vadt9taXODoY",
        "outputId": "61c44d78-9613-4780-dd57-3cc9975fe316"
      },
      "execution_count": 43,
      "outputs": [
        {
          "output_type": "execute_result",
          "data": {
            "text/plain": [
              "0.0470400026866224"
            ]
          },
          "metadata": {},
          "execution_count": 43
        }
      ]
    },
    {
      "cell_type": "code",
      "source": [
        "# Test case\n",
        "print(integrate(sinx,-1,1))"
      ],
      "metadata": {
        "colab": {
          "base_uri": "https://localhost:8080/"
        },
        "id": "5Q5HdZ_jOtdk",
        "outputId": "d32a3528-b37b-4d17-897c-aa67ae242f78"
      },
      "execution_count": 44,
      "outputs": [
        {
          "output_type": "stream",
          "name": "stdout",
          "text": [
            "1.8920739691097914\n"
          ]
        }
      ]
    },
    {
      "cell_type": "markdown",
      "source": [
        "## 3 Gradient Descent [39 points]"
      ],
      "metadata": {
        "id": "n-4ru46e4duG"
      }
    },
    {
      "cell_type": "markdown",
      "source": [
        "## 4 Random Variates [38 points]"
      ],
      "metadata": {
        "id": "W751bGfz4gOr"
      }
    }
  ]
}